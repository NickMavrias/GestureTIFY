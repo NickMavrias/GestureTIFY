{
 "cells": [
  {
   "cell_type": "markdown",
   "id": "feb87f6e",
   "metadata": {},
   "source": [
    "# MongoDB Handling\n",
    "\n",
    "After installing the MongoDB server in your machine, you can use this notebook for handling the initial processes with the database.\n",
    "\n",
    "Specifically, in this step, we utilize Python's `pymongo` library to exploit its capabilities for MongoDB server interaction.\n",
    "\n",
    "**Important Note: Be sure that the MongoDB server is up and running as a service in the background.**\n",
    "\n",
    "For example, in macOS, to run MongoDB (i.e. the mongod process) as a service, run:\n",
    "\n",
    "* `brew services start mongodb-community`\n",
    "\n",
    "To stop a mongod running as a macOS service, use the following command as needed:\n",
    "\n",
    "* `brew services stop mongodb-community`\n",
    "\n",
    "To install MongoDB in your system, follow the instructions here:\n",
    "\n",
    "* https://www.mongodb.com/docs/manual/administration/install-community/\n",
    "\n",
    "\n",
    "**Note:** You can modify any of the processes below, however, you have to explain your thoughts."
   ]
  },
  {
   "cell_type": "code",
   "execution_count": 1,
   "id": "5a192af2",
   "metadata": {},
   "outputs": [],
   "source": [
    "# import library for various processes with the OS\n",
    "import os"
   ]
  },
  {
   "cell_type": "code",
   "execution_count": 2,
   "id": "f3cc2add",
   "metadata": {},
   "outputs": [],
   "source": [
    "# import library for hanlding the MongoDB client\n",
    "import pymongo\n",
    "# import library for retrieving datetime\n",
    "from datetime import datetime"
   ]
  },
  {
   "cell_type": "markdown",
   "id": "65bac888",
   "metadata": {},
   "source": [
    "## MongoDB database instantiation\n",
    "\n",
    "The relevant information for the MongoDB client connection, the database name, and collection name is located in the configuration file.\n",
    "\n",
    "```\n",
    "# DB Connection with the uri (host)\n",
    "client: \"mongodb://localhost:27017/\"\n",
    "\n",
    "# db name\n",
    "db: \"aiot_course\"\n",
    "\n",
    "# db collection\n",
    "col: \"NAME YOUR COLLECTION\"\n",
    "```"
   ]
  },
  {
   "cell_type": "markdown",
   "id": "c1a34708",
   "metadata": {},
   "source": [
    "## Load configuration"
   ]
  },
  {
   "cell_type": "code",
   "execution_count": 3,
   "id": "4e970c28",
   "metadata": {},
   "outputs": [],
   "source": [
    "# import library for yaml handling\n",
    "import yaml"
   ]
  },
  {
   "cell_type": "code",
   "execution_count": 4,
   "id": "bbb4f44b",
   "metadata": {},
   "outputs": [],
   "source": [
    "config_path = os.path.join(os.getcwd(), \"config.yml\")\n",
    "\n",
    "with open(config_path) as file:\n",
    "    config = yaml.load(file, Loader=yaml.FullLoader)"
   ]
  },
  {
   "cell_type": "markdown",
   "id": "7dbbbe9f",
   "metadata": {},
   "source": [
    "### Create the database\n",
    "\n",
    "To create a database in MongoDB, start by creating a MongoClient object, then specify a connection URL with the correct ip address and the name of the database you want to create.\n",
    "\n",
    "MongoDB will create the database if it does not exist, and make a connection to it."
   ]
  },
  {
   "cell_type": "code",
   "execution_count": 5,
   "id": "bdbb888f",
   "metadata": {},
   "outputs": [],
   "source": [
    "client = pymongo.MongoClient(config[\"client\"])"
   ]
  },
  {
   "cell_type": "code",
   "execution_count": 6,
   "id": "203c2bc7",
   "metadata": {},
   "outputs": [],
   "source": [
    "db = client[config[\"db\"]]"
   ]
  },
  {
   "cell_type": "markdown",
   "id": "0772e744",
   "metadata": {},
   "source": [
    "### Instantiate the collection\n",
    "\n",
    "To create a collection in MongoDB, use database object and specify the name of the collection you want to create.\n",
    "\n",
    "MongoDB will create the collection if it does not exist."
   ]
  },
  {
   "cell_type": "code",
   "execution_count": 7,
   "id": "9937a0c8",
   "metadata": {},
   "outputs": [],
   "source": [
    "col = db[config[\"col\"]]"
   ]
  },
  {
   "cell_type": "markdown",
   "id": "2bcde222",
   "metadata": {},
   "source": [
    "Initially, no collection will be shown in MongoDB before you enter the first document!"
   ]
  },
  {
   "cell_type": "markdown",
   "id": "2b5cd593",
   "metadata": {},
   "source": [
    "## Create the data collection\n",
    "\n",
    "Uploading the gathered data to MongoDB collection. The data directory structure should be as follows:\n",
    "\n",
    "```\n",
    ".\n",
    "└── data/\n",
    "    ├── class_A/\n",
    "    │   ├── data_A_01.csv\n",
    "    │   ├── data_A_02.csv\n",
    "    │   └── ..\n",
    "    ├── class_B/\n",
    "    │   ├── data_B_01.csv\n",
    "    │   ├── data_B_02.csv\n",
    "    │   └── .\n",
    "    └── class ...\n",
    "```"
   ]
  },
  {
   "cell_type": "code",
   "execution_count": 8,
   "id": "622636fd",
   "metadata": {},
   "outputs": [],
   "source": [
    "# import library for hanlding the csv data and transformations\n",
    "import pandas as pd\n",
    "import json"
   ]
  },
  {
   "cell_type": "markdown",
   "id": "9532ede2",
   "metadata": {},
   "source": [
    "Get data path:"
   ]
  },
  {
   "cell_type": "code",
   "execution_count": 9,
   "id": "912f079f",
   "metadata": {},
   "outputs": [
    {
     "name": "stdout",
     "output_type": "stream",
     "text": [
      "C:\\Users\\user\\miniconda3\\envs\\myenv\\data\n"
     ]
    }
   ],
   "source": [
    "data_path = os.path.join(os.getcwd(), \"data\")\n",
    "print(data_path)"
   ]
  },
  {
   "cell_type": "markdown",
   "id": "a981a220",
   "metadata": {},
   "source": [
    "List all files in a path:"
   ]
  },
  {
   "cell_type": "code",
   "execution_count": 10,
   "id": "fd476759",
   "metadata": {},
   "outputs": [
    {
     "name": "stdout",
     "output_type": "stream",
     "text": [
      "['class_A', 'class_B']\n"
     ]
    }
   ],
   "source": [
    "classes_folders_list = [f for f in os.listdir(data_path) if os.path.isdir(os.path.join(data_path, f))]\n",
    "print(classes_folders_list)"
   ]
  },
  {
   "cell_type": "code",
   "execution_count": 12,
   "id": "0e8075f6",
   "metadata": {},
   "outputs": [
    {
     "name": "stdout",
     "output_type": "stream",
     "text": [
      "['data_A_01.csv', 'data_A_02.csv', 'data_A_03.csv', 'data_A_04.csv', 'data_A_05.csv', 'data_A_06.csv', 'data_A_07.csv', 'data_A_08.csv', 'data_A_09.csv']\n"
     ]
    }
   ],
   "source": [
    "# print files in folder\n",
    "folder_path = os.path.join(data_path, classes_folders_list[0])\n",
    "files_in_folder = [f for f in os.listdir(folder_path) if os.path.isfile(os.path.join(folder_path, f))]\n",
    "print(files_in_folder)"
   ]
  },
  {
   "cell_type": "markdown",
   "id": "c65d2961",
   "metadata": {},
   "source": [
    "Each document in the MongoDB database should have the following schema:\n",
    "\n",
    "```json\n",
    "{\n",
    "  \"data\": {\n",
    "    \"acc_x\": [\"array\", \"of\", \"values\"],\n",
    "    \"acc_y\": [\"array\", \"of\", \"values\"],\n",
    "    \"acc_z\": [\"array\", \"of\", \"values\"],\n",
    "  },\n",
    "  \"label\": \"The label of the instance\",\n",
    "  \"datetime\": \"MongoDB datetime object (it can be generated with the datetime.datetime.now() function\"\n",
    "}\n",
    "```\n",
    "\n",
    "Accordingly, if you are using gyroscope or both accelerometer and gyroscope, the following order and naming of the sensor keys should be defined:\n",
    "\n",
    "* for gyroscope: `gyr_x`, `gyr_y`, `gyr_z` for the three axes\n",
    "* for accelerometer and gyroscope: `acc_x`, `acc_y`, `acc_z`, `gyr_x`, `gyr_y`, `gyr_z` for the six axes\n",
    "\n",
    "**Note: Be careful, the document is mandatory to have the aforementioned schema, in order to argue and proceed with the rest of the processes later on, in data engineering, plotting, etc.**"
   ]
  },
  {
   "cell_type": "code",
   "execution_count": 13,
   "id": "4bc16310",
   "metadata": {},
   "outputs": [],
   "source": [
    "from utilsF import df_rebase"
   ]
  },
  {
   "cell_type": "markdown",
   "id": "115f2ae5",
   "metadata": {},
   "source": [
    "## Provide the code to upload the data to MongoDB"
   ]
  },
  {
   "cell_type": "code",
   "execution_count": 14,
   "id": "33d35721-29ca-4af3-a28c-4f4559613dde",
   "metadata": {},
   "outputs": [
    {
     "name": "stdout",
     "output_type": "stream",
     "text": [
      "Current Path: C:\\Users\\user\\miniconda3\\envs\\myenv\n"
     ]
    }
   ],
   "source": [
    "import os\n",
    "\n",
    "# Get the current working directory\n",
    "current_path = os.getcwd()\n",
    "\n",
    "# Print the current working directory\n",
    "print(\"Current Path:\", current_path)\n"
   ]
  },
  {
   "cell_type": "code",
   "execution_count": 15,
   "id": "56c8d4e2",
   "metadata": {},
   "outputs": [
    {
     "name": "stdout",
     "output_type": "stream",
     "text": [
      "Processing file: C:/Users/user/miniconda3/envs/myenv/data\\class_A\\data_A_01.csv\n",
      "Data inserted successfully with ID: 666c3855f1ba8959ad191495\n",
      "Processing file: C:/Users/user/miniconda3/envs/myenv/data\\class_A\\data_A_02.csv\n",
      "Data inserted successfully with ID: 666c3855f1ba8959ad191497\n",
      "Processing file: C:/Users/user/miniconda3/envs/myenv/data\\class_A\\data_A_03.csv\n",
      "Data inserted successfully with ID: 666c3855f1ba8959ad191499\n",
      "Processing file: C:/Users/user/miniconda3/envs/myenv/data\\class_A\\data_A_04.csv\n",
      "Data inserted successfully with ID: 666c3855f1ba8959ad19149b\n",
      "Processing file: C:/Users/user/miniconda3/envs/myenv/data\\class_A\\data_A_05.csv\n",
      "Data inserted successfully with ID: 666c3855f1ba8959ad19149d\n",
      "Processing file: C:/Users/user/miniconda3/envs/myenv/data\\class_A\\data_A_06.csv\n",
      "Data inserted successfully with ID: 666c3855f1ba8959ad19149f\n",
      "Processing file: C:/Users/user/miniconda3/envs/myenv/data\\class_A\\data_A_07.csv\n",
      "Data inserted successfully with ID: 666c3855f1ba8959ad1914a1\n",
      "Processing file: C:/Users/user/miniconda3/envs/myenv/data\\class_A\\data_A_08.csv\n",
      "Data inserted successfully with ID: 666c3855f1ba8959ad1914a3\n",
      "Processing file: C:/Users/user/miniconda3/envs/myenv/data\\class_A\\data_A_09.csv\n",
      "Data inserted successfully with ID: 666c3856f1ba8959ad1914a5\n",
      "Processing file: C:/Users/user/miniconda3/envs/myenv/data\\class_B\\data_B_01.csv\n",
      "Data inserted successfully with ID: 666c3856f1ba8959ad1914a7\n",
      "Processing file: C:/Users/user/miniconda3/envs/myenv/data\\class_B\\data_B_02.csv\n",
      "Data inserted successfully with ID: 666c3856f1ba8959ad1914a9\n",
      "Processing file: C:/Users/user/miniconda3/envs/myenv/data\\class_B\\data_B_03.csv\n",
      "Data inserted successfully with ID: 666c3856f1ba8959ad1914ab\n",
      "Processing file: C:/Users/user/miniconda3/envs/myenv/data\\class_B\\data_B_04.csv\n",
      "Data inserted successfully with ID: 666c3856f1ba8959ad1914ad\n",
      "Processing file: C:/Users/user/miniconda3/envs/myenv/data\\class_B\\data_B_05.csv\n",
      "Data inserted successfully with ID: 666c3856f1ba8959ad1914af\n",
      "Processing file: C:/Users/user/miniconda3/envs/myenv/data\\class_B\\data_B_06.csv\n",
      "Data inserted successfully with ID: 666c3856f1ba8959ad1914b1\n",
      "Processing file: C:/Users/user/miniconda3/envs/myenv/data\\class_B\\data_B_07.csv\n",
      "Data inserted successfully with ID: 666c3856f1ba8959ad1914b3\n",
      "Processing file: C:/Users/user/miniconda3/envs/myenv/data\\class_B\\data_B_08.csv\n",
      "Data inserted successfully with ID: 666c3856f1ba8959ad1914b5\n",
      "Processing file: C:/Users/user/miniconda3/envs/myenv/data\\class_B\\data_B_09.csv\n",
      "Data inserted successfully with ID: 666c3856f1ba8959ad1914b7\n"
     ]
    }
   ],
   "source": [
    "import pymongo\n",
    "import pandas as pd\n",
    "import yaml\n",
    "import os\n",
    "from datetime import datetime\n",
    "\n",
    "def load_config(config_path):\n",
    "    with open(config_path, 'r') as file:\n",
    "        config = yaml.safe_load(file)\n",
    "    return config\n",
    "\n",
    "def read_and_transform_data(file_path):\n",
    "    data = pd.read_csv(file_path)\n",
    "    filename = os.path.basename(file_path).split('.')[0]  # Get filename without extension as label\n",
    "\n",
    "    # Convert 'epoch' to 'datetime' for the entire column\n",
    "    data['datetime'] = pd.to_datetime(data['Epoch'], unit='ms')  # Ensure the epoch unit is correct ('s' for seconds)\n",
    "\n",
    "    # Transpose the accelerometer data into arrays\n",
    "    transformed_data = {\n",
    "        \"data\": {\n",
    "            \"acc_x\": data['X'].tolist(),\n",
    "            \"acc_y\": data['Y'].tolist(),\n",
    "            \"acc_z\": data['Z'].tolist()\n",
    "        },\n",
    "        \"label\": filename,  # Using filename as the label\n",
    "        \"datetime\": data['datetime'].tolist()  # Store all datetime conversions if needed\n",
    "    }\n",
    "    return transformed_data\n",
    "\n",
    "def insert_data_to_mongodb(data, config):\n",
    "    try:\n",
    "        client = pymongo.MongoClient(config['client'])\n",
    "        db = client[config['db']]\n",
    "        collection = db[config['col']]\n",
    "        result = collection.insert_one(data)\n",
    "        print(f\"Data inserted successfully with ID: {result.inserted_id}\")\n",
    "    except Exception as ex:\n",
    "        print(f\"An error occurred: {ex}\")\n",
    "\n",
    "def process_files(directory_path, config):\n",
    "    file_paths = [os.path.join(directory_path, f) for f in os.listdir(directory_path) if f.endswith('.csv')]\n",
    "    if not file_paths:\n",
    "        print(\"No CSV files found in the directory.\")\n",
    "    for file_path in file_paths:\n",
    "        print(f\"Processing file: {file_path}\")\n",
    "        data = read_and_transform_data(file_path)\n",
    "        insert_data_to_mongodb(data, config)\n",
    "\n",
    "def main():\n",
    "    config_path = 'config.yml'  # Adjust this path to your actual configuration file\n",
    "    root_directory_path = 'C:/Users/user/miniconda3/envs/myenv/data'  # Adjust this path to the root data directory\n",
    "    config = load_config(config_path)\n",
    "    class_directories = ['class_A', 'class_B']  # Directories to process\n",
    "\n",
    "    for class_dir in class_directories:\n",
    "        directory_path = os.path.join(root_directory_path, class_dir)\n",
    "        process_files(directory_path, config)\n",
    "\n",
    "if __name__ == \"__main__\":\n",
    "    main()\n"
   ]
  },
  {
   "cell_type": "code",
   "execution_count": null,
   "id": "ecabd701-b266-4aa4-b1a1-72a723a86201",
   "metadata": {},
   "outputs": [],
   "source": []
  },
  {
   "cell_type": "code",
   "execution_count": null,
   "id": "f5f01fb6-f58a-4047-940c-e1de58fc9d9e",
   "metadata": {},
   "outputs": [],
   "source": []
  }
 ],
 "metadata": {
  "kernelspec": {
   "display_name": "Python 3 (ipykernel)",
   "language": "python",
   "name": "python3"
  },
  "language_info": {
   "codemirror_mode": {
    "name": "ipython",
    "version": 3
   },
   "file_extension": ".py",
   "mimetype": "text/x-python",
   "name": "python",
   "nbconvert_exporter": "python",
   "pygments_lexer": "ipython3",
   "version": "3.9.19"
  }
 },
 "nbformat": 4,
 "nbformat_minor": 5
}
